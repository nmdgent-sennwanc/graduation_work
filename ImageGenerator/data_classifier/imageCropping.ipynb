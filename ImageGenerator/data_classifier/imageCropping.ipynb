{
 "cells": [
  {
   "cell_type": "code",
   "execution_count": 20,
   "metadata": {},
   "outputs": [],
   "source": [
    "import cv2\n",
    "import os\n",
    "import shutil"
   ]
  },
  {
   "cell_type": "code",
   "execution_count": 21,
   "metadata": {},
   "outputs": [],
   "source": [
    "# Ask name of new member/intruder\n",
    "name = input('Enter name of person: ')\n",
    "\n",
    "# Create new directory to write images to\n",
    "path = os.path.join('persons', name)\n",
    "\n",
    "# If exists just skip creating directory\n",
    "if os.path.exists(path):\n",
    "\tprint('Images will be put in the existing directory: ',name)\n",
    "else:\n",
    "\tos.mkdir(path)"
   ]
  },
  {
   "cell_type": "code",
   "execution_count": 22,
   "metadata": {},
   "outputs": [
    {
     "name": "stdout",
     "output_type": "stream",
     "text": [
      "['bb7e307e-9664-11ed-a1eb-0242ac120002.jpg']\n"
     ]
    }
   ],
   "source": [
    "# Ask what group the person needs to be in\n",
    "group = input('Enter the group of the person (\"member\" or \"intruder\"): ')\n",
    "\n",
    "# Get files of that group\n",
    "files = os.listdir(group)"
   ]
  },
  {
   "cell_type": "code",
   "execution_count": 23,
   "metadata": {},
   "outputs": [
    {
     "name": "stdout",
     "output_type": "stream",
     "text": [
      "[[124 362 277 277]]\n"
     ]
    }
   ],
   "source": [
    "for file in files:\n",
    "\t# Read the input image\n",
    "\timg = cv2.imread(os.path.join(group, file))\n",
    "\n",
    "\t# Convert into grayscale\n",
    "\tgray = cv2.cvtColor(img, cv2.COLOR_BGR2GRAY)\n",
    "\n",
    "\t# Load the cascade\n",
    "\tface_cascade = cv2.CascadeClassifier('haarcascade_frontalface_alt2.xml')\n",
    "\n",
    "\t# Detect faces\n",
    "\tfaces = face_cascade.detectMultiScale(gray, 1.1, 4)\n",
    "\tprint(faces)\n",
    "\n",
    "\ttry:\n",
    "\t\tif len(faces) > 0:\n",
    "\t\t\t# Crop faces \n",
    "\t\t\tfor (x, y, w, h) in faces:\n",
    "\t\t\t\tfaces = img[y-50:y + h + 50, x-20:x + w + 20]\n",
    "\t\t\t\tcv2.imwrite(os.path.join('../data_classifier_cropped/', group, 'face_'+file), faces)\n",
    "\t\t\t\n",
    "\t\t\t# Move image to persons folder\n",
    "\t\t\tsrc_person = os.path.join('persons', name)\n",
    "\t\t\tsrc_file = os.path.join(group, file)\n",
    "\n",
    "\t\t\tif os.path.exists(src_person):\n",
    "\t\t\t\tshutil.move(src_file, src_person)\n",
    "\n",
    "\t\tif len(faces) == 0:\n",
    "\t\t\t# Delete image from folder\n",
    "\t\t\tos.remove(os.path.join(group, file))\n",
    "\texcept:\n",
    "\t\tprint(file, 'is corrupted')\n",
    "\t\t# Delete image from folder\n",
    "\t\tos.remove(os.path.join(group, file))"
   ]
  }
 ],
 "metadata": {
  "kernelspec": {
   "display_name": "Python 3",
   "language": "python",
   "name": "python3"
  },
  "language_info": {
   "codemirror_mode": {
    "name": "ipython",
    "version": 3
   },
   "file_extension": ".py",
   "mimetype": "text/x-python",
   "name": "python",
   "nbconvert_exporter": "python",
   "pygments_lexer": "ipython3",
   "version": "3.9.7 (tags/v3.9.7:1016ef3, Aug 30 2021, 20:19:38) [MSC v.1929 64 bit (AMD64)]"
  },
  "orig_nbformat": 4,
  "vscode": {
   "interpreter": {
    "hash": "3ac261747fcfa5a0609e5be7a0c650731fe3c2286f48cba7005a92cd74c0599e"
   }
  }
 },
 "nbformat": 4,
 "nbformat_minor": 2
}
