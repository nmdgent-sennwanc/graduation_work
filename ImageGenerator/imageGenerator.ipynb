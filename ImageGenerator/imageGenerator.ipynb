{
 "cells": [
  {
   "attachments": {},
   "cell_type": "markdown",
   "metadata": {},
   "source": [
    "## 1. Setup and getting the data"
   ]
  },
  {
   "attachments": {},
   "cell_type": "markdown",
   "metadata": {},
   "source": [
    "1.2 Collecting images using OpenCV"
   ]
  },
  {
   "cell_type": "code",
   "execution_count": 1,
   "metadata": {},
   "outputs": [],
   "source": [
    "import os\n",
    "import time\n",
    "import uuid\n",
    "import cv2"
   ]
  },
  {
   "cell_type": "code",
   "execution_count": 2,
   "metadata": {},
   "outputs": [],
   "source": [
    "# Member vs intruder\n",
    "IMAGE_PATH = os.path.join('data_classifier', 'intruder')\n",
    "number_images = 50"
   ]
  },
  {
   "cell_type": "code",
   "execution_count": 5,
   "metadata": {},
   "outputs": [
    {
     "name": "stdout",
     "output_type": "stream",
     "text": [
      "Collecting image 0\n",
      "Collecting image 1\n",
      "Collecting image 2\n",
      "Collecting image 3\n",
      "Collecting image 4\n",
      "Collecting image 5\n",
      "Collecting image 6\n",
      "Collecting image 7\n",
      "Collecting image 8\n",
      "Collecting image 9\n",
      "Collecting image 10\n",
      "Collecting image 11\n",
      "Collecting image 12\n",
      "Collecting image 13\n",
      "Collecting image 14\n",
      "Collecting image 15\n",
      "Collecting image 16\n",
      "Collecting image 17\n",
      "Collecting image 18\n",
      "Collecting image 19\n",
      "Collecting image 20\n",
      "Collecting image 21\n",
      "Collecting image 22\n",
      "Collecting image 23\n",
      "Collecting image 24\n",
      "Collecting image 25\n",
      "Collecting image 26\n",
      "Collecting image 27\n",
      "Collecting image 28\n",
      "Collecting image 29\n",
      "Collecting image 30\n",
      "Collecting image 31\n",
      "Collecting image 32\n",
      "Collecting image 33\n",
      "Collecting image 34\n",
      "Collecting image 35\n",
      "Collecting image 36\n",
      "Collecting image 37\n",
      "Collecting image 38\n",
      "Collecting image 39\n",
      "Collecting image 40\n",
      "Collecting image 41\n",
      "Collecting image 42\n",
      "Collecting image 43\n",
      "Collecting image 44\n",
      "Collecting image 45\n",
      "Collecting image 46\n",
      "Collecting image 47\n",
      "Collecting image 48\n",
      "Collecting image 49\n"
     ]
    }
   ],
   "source": [
    "# Getting videoCapture\n",
    "capture = cv2.VideoCapture(1)\n",
    "\n",
    "# creating images and store them at image_path\n",
    "for img_num in range (number_images):\n",
    "\tprint('Collecting image {}'.format(img_num))\n",
    "\tret, frame = capture.read()\n",
    "\timg_name = os.path.join(IMAGE_PATH, f'{str(uuid.uuid1())}.jpg')\n",
    "\tcv2.imwrite(img_name, frame)\n",
    "\tcv2.imshow('frame', frame)\n",
    "\ttime.sleep(0.2)\n",
    "\n",
    "\tif cv2.waitKey(1) & 0xFF == ord('q'):\n",
    "\t\tbreak\n",
    "\n",
    "capture.release()\n",
    "cv2.destroyAllWindows()"
   ]
  }
 ],
 "metadata": {
  "kernelspec": {
   "display_name": "Python 3",
   "language": "python",
   "name": "python3"
  },
  "language_info": {
   "codemirror_mode": {
    "name": "ipython",
    "version": 3
   },
   "file_extension": ".py",
   "mimetype": "text/x-python",
   "name": "python",
   "nbconvert_exporter": "python",
   "pygments_lexer": "ipython3",
   "version": "3.9.1"
  },
  "orig_nbformat": 4,
  "vscode": {
   "interpreter": {
    "hash": "5d32d1b20d489cfdd4d6fde41cf9824aef2f671a5a85dc8fa64a34e0213bf53a"
   }
  }
 },
 "nbformat": 4,
 "nbformat_minor": 2
}
